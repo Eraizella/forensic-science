{
 "cells": [
  {
   "cell_type": "code",
   "execution_count": 1,
   "id": "b71412c1-653c-4b93-a5b1-cfc7edabf3bc",
   "metadata": {},
   "outputs": [],
   "source": [
    "import pandas as pd\n",
    "import numpy as np\n",
    "import joblib\n",
    "from sklearn.ensemble import RandomForestRegressor\n",
    "from sklearn.metrics import mean_squared_error, r2_score\n",
    "from sklearn.model_selection import train_test_split, cross_val_score, KFold\n",
    "from sklearn.metrics import make_scorer, mean_squared_error, r2_score"
   ]
  },
  {
   "cell_type": "code",
   "execution_count": 2,
   "id": "f3ce8a4f-f0a4-4b1a-ab56-8a60f7a97cec",
   "metadata": {},
   "outputs": [],
   "source": [
    "data = pd.read_excel(\"/home/jovyan/CSCI 5700/Vert_data.xlsx\")\n",
    "data = data.iloc[:-5]"
   ]
  },
  {
   "cell_type": "code",
   "execution_count": 3,
   "id": "856cc077-c4d7-4757-82ae-310113033dd4",
   "metadata": {},
   "outputs": [
    {
     "name": "stdout",
     "output_type": "stream",
     "text": [
      "<class 'pandas.core.frame.DataFrame'>\n",
      "RangeIndex: 153 entries, 0 to 152\n",
      "Data columns (total 27 columns):\n",
      " #   Column     Non-Null Count  Dtype  \n",
      "---  ------     --------------  -----  \n",
      " 0   ID         153 non-null    object \n",
      " 1   Sex        153 non-null    object \n",
      " 2   Age_mean   153 non-null    object \n",
      " 3   C2         153 non-null    float64\n",
      " 4   C3         153 non-null    float64\n",
      " 5   C4         153 non-null    float64\n",
      " 6   C5         153 non-null    float64\n",
      " 7   C6         153 non-null    float64\n",
      " 8   C7         153 non-null    float64\n",
      " 9   T1         153 non-null    float64\n",
      " 10  T2         153 non-null    float64\n",
      " 11  T3         153 non-null    float64\n",
      " 12  T4         153 non-null    float64\n",
      " 13  T5         153 non-null    float64\n",
      " 14  T6         153 non-null    float64\n",
      " 15  T7         153 non-null    float64\n",
      " 16  T8         153 non-null    float64\n",
      " 17  T9         153 non-null    float64\n",
      " 18  T10        153 non-null    float64\n",
      " 19  T11        153 non-null    float64\n",
      " 20  T12        153 non-null    float64\n",
      " 21  L1         153 non-null    float64\n",
      " 22  L2         153 non-null    float64\n",
      " 23  L3         153 non-null    float64\n",
      " 24  L4         153 non-null    float64\n",
      " 25  L5         153 non-null    float64\n",
      " 26  Sum_Verts  153 non-null    float64\n",
      "dtypes: float64(24), object(3)\n",
      "memory usage: 32.4+ KB\n"
     ]
    }
   ],
   "source": [
    "data.info()"
   ]
  },
  {
   "cell_type": "code",
   "execution_count": 4,
   "id": "cdd7bfae-9c4d-4d43-89a7-38a139fe073d",
   "metadata": {},
   "outputs": [
    {
     "name": "stdout",
     "output_type": "stream",
     "text": [
      "Results for M:\n",
      "Mean Squared Error (Cross-Validation): 64.7073135599998\n",
      "R-squared (Cross-Validation): 0.7520434251981494\n",
      "Model saved as random_forest_M.joblib\n",
      "------------------------------\n",
      "Results for F:\n",
      "Mean Squared Error (Cross-Validation): 52.810869969538814\n",
      "R-squared (Cross-Validation): 0.8443203223455521\n",
      "Model saved as random_forest_F.joblib\n",
      "------------------------------\n",
      "Results for UD:\n",
      "Mean Squared Error (Cross-Validation): 200.8912788430054\n",
      "R-squared (Cross-Validation): 0.32271944754087745\n",
      "Model saved as random_forest_UD.joblib\n",
      "------------------------------\n"
     ]
    }
   ],
   "source": [
    "genders = ['M', 'F', 'UD']\n",
    "\n",
    "results = {}\n",
    "\n",
    "mse_scorer = make_scorer(mean_squared_error, greater_is_better=False)\n",
    "r2_scorer = make_scorer(r2_score)\n",
    "\n",
    "for gender in genders:\n",
    "   \n",
    "    data_gender = data[data['Sex'] == gender].sample(frac=1, random_state=42).reset_index(drop=True)\n",
    "    \n",
    "\n",
    "    y = data_gender['Sum_Verts']\n",
    "    X = data_gender.drop(columns=['Sum_Verts', 'ID', 'Age_mean', 'Sex'])\n",
    "    \n",
    "    rf = RandomForestRegressor(n_estimators=100, random_state=42)\n",
    "    \n",
    "    kf = KFold(n_splits=5, shuffle=True, random_state=42)\n",
    "    \n",
    "    mse_scores = cross_val_score(rf, X, y, cv=kf, scoring=mse_scorer)\n",
    "    r2_scores = cross_val_score(rf, X, y, cv=kf, scoring=r2_scorer)\n",
    "    \n",
    "    rf.fit(X, y)\n",
    "    results[gender] = {\n",
    "        \"Mean Squared Error (Cross-Validation)\": -np.mean(mse_scores),\n",
    "        \"R-squared (Cross-Validation)\": np.mean(r2_scores)\n",
    "    }\n",
    "    \n",
    "    model_filename = f\"random_forest_{gender}.joblib\"\n",
    "    joblib.dump(rf, model_filename)\n",
    "    \n",
    "    print(f\"Results for {gender}:\")\n",
    "    print(f\"Mean Squared Error (Cross-Validation): {-np.mean(mse_scores)}\")\n",
    "    print(f\"R-squared (Cross-Validation): {np.mean(r2_scores)}\")\n",
    "    print(f\"Model saved as {model_filename}\")\n",
    "    print(\"-\" * 30)"
   ]
  },
  {
   "cell_type": "code",
   "execution_count": null,
   "id": "494e8384-4fa0-4aee-a08d-b7e1903acaf7",
   "metadata": {},
   "outputs": [],
   "source": [
    "# rf_male = joblib.load('random_forest_male.joblib')\n",
    "# rf_female = joblib.load('random_forest_female.joblib')\n",
    "# rf_unknown = joblib.load('random_forest_unknown.joblib')"
   ]
  }
 ],
 "metadata": {
  "kernelspec": {
   "display_name": "Python 3 (ipykernel)",
   "language": "python",
   "name": "python3"
  },
  "language_info": {
   "codemirror_mode": {
    "name": "ipython",
    "version": 3
   },
   "file_extension": ".py",
   "mimetype": "text/x-python",
   "name": "python",
   "nbconvert_exporter": "python",
   "pygments_lexer": "ipython3",
   "version": "3.11.9"
  }
 },
 "nbformat": 4,
 "nbformat_minor": 5
}
